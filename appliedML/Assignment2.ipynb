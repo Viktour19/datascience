{
 "cells": [
  {
   "cell_type": "code",
   "execution_count": 2,
   "metadata": {
    "collapsed": false,
    "scrolled": true
   },
   "outputs": [
    {
     "name": "stdout",
     "output_type": "stream",
     "text": [
      "Without pruning: 0.75\n",
      "With Pruning: 0.792349726776{'max_depth': 10}\n"
     ]
    },
    {
     "data": {
      "text/plain": [
       "True"
      ]
     },
     "execution_count": 2,
     "metadata": {},
     "output_type": "execute_result"
    }
   ],
   "source": [
    "import pandas as pd\n",
    "from sklearn import tree\n",
    "from scipy import misc \n",
    "import pydot\n",
    "from sklearn import grid_search\n",
    "\n",
    "data  = pd.read_excel('titanic.xlsx')\n",
    "\n",
    "data = data.dropna()\n",
    "\n",
    "data['Sex'] = data['Sex'].apply(lambda x: int (0) if x == 'male'  else int(1))\n",
    "\n",
    "cols = ['Pclass'] + ['Sex'] + ['Age'] + ['Fare']\n",
    "\n",
    "X = data[cols]\n",
    "\n",
    "Y = data['Survived']\n",
    "\n",
    "clf  = tree.DecisionTreeClassifier()\n",
    "clf.fit(X[: len(X)/2],Y[: len(X)/2])\n",
    "\n",
    "print \"Without pruning: \" + str(clf.score(X[len(X)/2  :], Y[len(X)/2 :]))\n",
    "\n",
    "with open(\"titanic.dot\", 'w') as f:\n",
    "    f = tree.export_graphviz(clf, out_file=f, feature_names=['Pclass', 'Sex', 'Age', 'Fare'],\n",
    "                             class_names=['Survived', 'Not Survived'], filled=True, rounded=True,  \n",
    "                         special_characters=True)\n",
    "\n",
    "\n",
    "(graph,) = pydot.graph_from_dot_file('titanic.dot')\n",
    "graph.write_png('titanic.png')\n",
    "\n",
    "parameters = {'max_depth':range(3,20)}\n",
    "clf = grid_search.GridSearchCV(tree.DecisionTreeClassifier(), parameters, n_jobs=4)\n",
    "\n",
    "Y\n",
    "\n",
    "clf.fit(X, Y)\n",
    "tree_model = clf.best_estimator_\n",
    "print \"With Pruning: \" + str(clf.best_score_) + str(clf.best_params_)\n",
    "\n",
    "with open(\"titanic2.dot\", 'w') as f:\n",
    "    f = tree.export_graphviz(tree_model, out_file=f, feature_names=['Pclass', 'Sex', 'Age', 'Fare'],\n",
    "                             class_names=['Survived', 'Not Survived'], filled=True, rounded=True,  \n",
    "                         special_characters=True)\n",
    "\n",
    "(graph,) = pydot.graph_from_dot_file('titanic2.dot')\n",
    "graph.write_png('titanic2.png')\n"
   ]
  },
  {
   "cell_type": "code",
   "execution_count": 3,
   "metadata": {
    "collapsed": false
   },
   "outputs": [
    {
     "data": {
      "text/plain": [
       "LogisticRegression(C=100000.0, class_weight=None, dual=False,\n",
       "          fit_intercept=True, intercept_scaling=1, max_iter=100,\n",
       "          multi_class='ovr', n_jobs=1, penalty='l2', random_state=None,\n",
       "          solver='liblinear', tol=0.0001, verbose=0, warm_start=False)"
      ]
     },
     "execution_count": 3,
     "metadata": {},
     "output_type": "execute_result"
    }
   ],
   "source": [
    "import matplotlib.pyplot as plt\n",
    "from sklearn import linear_model, datasets\n",
    "\n",
    "cols = ['Pclass'] + ['Sex'] + ['Age'] + ['Fare']\n",
    "\n",
    "X = data[cols]\n",
    "\n",
    "Y = data['Survived']\n",
    "logreg = linear_model.LogisticRegression(C=1e5)\n",
    "\n",
    "logreg.fit(X[: len(X)/2],Y[: len(X)/2])\n",
    "\n"
   ]
  },
  {
   "cell_type": "code",
   "execution_count": 4,
   "metadata": {
    "collapsed": false
   },
   "outputs": [
    {
     "name": "stdout",
     "output_type": "stream",
     "text": [
      "0.739130434783\n"
     ]
    },
    {
     "data": {
      "text/html": [
       "<div>\n",
       "<table border=\"1\" class=\"dataframe\">\n",
       "  <thead>\n",
       "    <tr style=\"text-align: right;\">\n",
       "      <th></th>\n",
       "      <th>0</th>\n",
       "      <th>1</th>\n",
       "    </tr>\n",
       "  </thead>\n",
       "  <tbody>\n",
       "    <tr>\n",
       "      <th>0</th>\n",
       "      <td>Pclass</td>\n",
       "      <td>[-0.963486888697]</td>\n",
       "    </tr>\n",
       "    <tr>\n",
       "      <th>1</th>\n",
       "      <td>Sex</td>\n",
       "      <td>[3.09165986995]</td>\n",
       "    </tr>\n",
       "    <tr>\n",
       "      <th>2</th>\n",
       "      <td>Age</td>\n",
       "      <td>[-0.0506957747237]</td>\n",
       "    </tr>\n",
       "    <tr>\n",
       "      <th>3</th>\n",
       "      <td>Fare</td>\n",
       "      <td>[-0.00535205581666]</td>\n",
       "    </tr>\n",
       "  </tbody>\n",
       "</table>\n",
       "</div>"
      ],
      "text/plain": [
       "        0                    1\n",
       "0  Pclass    [-0.963486888697]\n",
       "1     Sex      [3.09165986995]\n",
       "2     Age   [-0.0506957747237]\n",
       "3    Fare  [-0.00535205581666]"
      ]
     },
     "execution_count": 4,
     "metadata": {},
     "output_type": "execute_result"
    }
   ],
   "source": [
    "import numpy as np\n",
    "print logreg.score(X[len(X)/2  :], Y[len(X)/2 :])\n",
    "\n",
    "pd.DataFrame(zip(X.columns, np.transpose(logreg.coef_)))"
   ]
  },
  {
   "cell_type": "code",
   "execution_count": 5,
   "metadata": {
    "collapsed": false
   },
   "outputs": [
    {
     "name": "stdout",
     "output_type": "stream",
     "text": [
      "[ 0.89473684  0.73684211  0.84210526  0.88888889  0.66666667  0.77777778\n",
      "  0.66666667  0.55555556  0.83333333  0.72222222]\n",
      "0.758479532164\n"
     ]
    }
   ],
   "source": [
    "from sklearn.cross_validation import cross_val_score\n",
    "scores = cross_val_score(logreg, X, Y, scoring='accuracy', cv=10)\n",
    "print scores\n",
    "print scores.mean()"
   ]
  },
  {
   "cell_type": "code",
   "execution_count": 6,
   "metadata": {
    "collapsed": false
   },
   "outputs": [
    {
     "data": {
      "image/png": "[encoded data removed]",
      "text/plain": [
       "<matplotlib.figure.Figure at 0x7f0829c13910>"
      ]
     },
     "metadata": {},
     "output_type": "display_data"
    },
    {
     "name": "stdout",
     "output_type": "stream",
     "text": [
      "Maximum Score, K: 0.652173913043 7\n"
     ]
    },
    {
     "data": {
      "image/png": "[encoded data removed]",
      "text/plain": [
       "<matplotlib.figure.Figure at 0x7f082986c4d0>"
      ]
     },
     "metadata": {},
     "output_type": "display_data"
    },
    {
     "name": "stdout",
     "output_type": "stream",
     "text": [
      "Maximum Score, K: 0.683333333333 9\n"
     ]
    }
   ],
   "source": [
    "from sklearn.neighbors import KNeighborsClassifier\n",
    "%matplotlib inline\n",
    "\n",
    "y = []\n",
    "\n",
    "maxs = 0\n",
    "maxi = 0\n",
    "\n",
    "for i in np.arange(1, 11):\n",
    "    neigh = KNeighborsClassifier(n_neighbors=i)\n",
    "    neigh.fit(X[: len(X)/2],Y[: len(X)/2])\n",
    "    score = neigh.score(X[len(X)/2  :], Y[len(X)/2 :])\n",
    "    \n",
    "    if(score > maxs):\n",
    "        maxs = score\n",
    "        maxi = i\n",
    "    y.append(score)\n",
    "    \n",
    "\n",
    "\n",
    "rects1 = plt.bar(np.arange(1, 11), y, 0.35, color='b')\n",
    "\n",
    "plt.xlabel(\"number of neigbours\")\n",
    "plt.ylabel(\"accuracy\")\n",
    "plt.title(\"Performance\")\n",
    "plt.show()\n",
    "\n",
    "print \"Maximum Score, K:\", maxs, maxi\n",
    "\n",
    "\n",
    "y = []\n",
    "maxs = 0\n",
    "maxi = 0\n",
    "for i in np.arange(1, 11):\n",
    "    neigh = KNeighborsClassifier(n_neighbors=i)\n",
    "    neigh.fit(X[: len(X)/2],Y[: len(X)/2])\n",
    "    scores = cross_val_score(neigh, X, Y, scoring='accuracy', cv=10)\n",
    "\n",
    "    if(scores.mean() > maxs):\n",
    "        maxs = scores.mean()\n",
    "        maxi = i\n",
    "    y.append(scores.mean())\n",
    "    \n",
    "\n",
    "\n",
    "rects1 = plt.bar(np.arange(1, 11), y, 0.35, color='b')\n",
    "\n",
    "plt.xlabel(\"number of neigbours\")\n",
    "plt.ylabel(\"accuracy\")\n",
    "plt.title(\"10 Cross Validated Performance\")\n",
    "plt.show()\n",
    "\n",
    "print  \"Maximum Score, K:\", maxs, maxi\n"
   ]
  },
  {
   "cell_type": "code",
   "execution_count": 7,
   "metadata": {
    "collapsed": false
   },
   "outputs": [
    {
     "data": {
      "image/png": "[encoded data removed]",
      "text/plain": [
       "<matplotlib.figure.Figure at 0x7f081bebbd50>"
      ]
     },
     "metadata": {},
     "output_type": "display_data"
    },
    {
     "name": "stdout",
     "output_type": "stream",
     "text": [
      "Maximum Score, K: 0.699707602339 9\n"
     ]
    },
    {
     "data": {
      "image/png": "[encoded data removed]",
      "text/plain": [
       "<matplotlib.figure.Figure at 0x7f0812479550>"
      ]
     },
     "metadata": {},
     "output_type": "display_data"
    },
    {
     "name": "stdout",
     "output_type": "stream",
     "text": [
      "Maximum Score, K: 0.677777777778 9\n"
     ]
    }
   ],
   "source": [
    "\n",
    "metrics = ['manhattan', 'chebyshev']\n",
    "\n",
    "for j in np.arange(0, 2):\n",
    "    y = []\n",
    "    maxs  =  0\n",
    "    maxi = 0\n",
    "    for i in np.arange(1, 11):\n",
    "        \n",
    "        neigh = KNeighborsClassifier(n_neighbors=i, metric=metrics[j])\n",
    "        neigh.fit(X[: len(X)/2],Y[: len(X)/2])\n",
    "        scores = cross_val_score(neigh, X, Y, scoring='accuracy', cv=10)\n",
    "        \n",
    "        if(scores.mean() > maxs):\n",
    "            maxs = scores.mean()\n",
    "            maxi = i\n",
    "        y.append(scores.mean())\n",
    "        \n",
    "        \n",
    "    rects1 = plt.bar(np.arange(1, 11), y, 0.35, color='b')\n",
    "    plt.xlabel(\"number of neigbours\")\n",
    "    plt.ylabel(\"accuracy\")\n",
    "    plt.title(metrics[j])\n",
    "    plt.show()\n",
    "    \n",
    "    print  \"Maximum Score, K:\", maxs, maxi\n",
    "    \n",
    "\n"
   ]
  },
  {
   "cell_type": "code",
   "execution_count": 9,
   "metadata": {
    "collapsed": false
   },
   "outputs": [],
   "source": [
    "import pandas as pd\n",
    "\n",
    "\n",
    "red = pd.read_csv('winequality-red.csv', delimiter=';')\n",
    "white = pd.read_csv('winequality-white.csv', delimiter=';')\n",
    "\n",
    "x = [ red['fixed acidity'].mean(), red['volatile acidity'].mean(),\n",
    "     red['citric acid'].mean(), red['residual sugar'].mean(), red['chlorides'].mean(), \n",
    "    red['free sulfur dioxide'].mean(), red['total sulfur dioxide'].mean(), red['density'].mean(), \n",
    "     red['pH'].mean(), red['sulphates'].mean(), red['alcohol'].mean()\n",
    "    ] \n",
    "\n",
    "y  = [ white['fixed acidity'].mean(), white['volatile acidity'].mean(),\n",
    "     white['citric acid'].mean(), white['residual sugar'].mean(), white['chlorides'].mean(), \n",
    "    white['free sulfur dioxide'].mean(), white['total sulfur dioxide'].mean(), white['density'].mean(), \n",
    "     white['pH'].mean(), white['sulphates'].mean(), white['alcohol'].mean()\n",
    "    ] \n",
    "\n"
   ]
  },
  {
   "cell_type": "code",
   "execution_count": 18,
   "metadata": {
    "collapsed": false
   },
   "outputs": [
    {
     "data": {
      "image/png": "[encoded data removed]",
      "text/plain": [
       "<matplotlib.figure.Figure at 0x7f081222ea90>"
      ]
     },
     "metadata": {},
     "output_type": "display_data"
    }
   ],
   "source": [
    "import matplotlib.pyplot as plt\n",
    "%matplotlib inline\n",
    "import numpy as np\n",
    "\n",
    "f = np.arange(0, 11)\n",
    "\n",
    "ax = plt.subplot(111)\n",
    "\n",
    "bx = ax.bar(f-0.2, x,width=0.2,color='b',align='center')\n",
    "\n",
    "by = ax.bar(f,y ,width=0.2,color='g',align='center', )\n",
    "\n",
    "ax.legend( (bx[0], by[0]), ('Red Wine', 'White wine') )\n",
    "\n",
    "plt.xlabel(\"Features\")\n",
    "plt.ylabel(\"Average value\")\n",
    "plt.title(\"comparison of red and white wine\")\n",
    "plt.show()"
   ]
  },
  {
   "cell_type": "code",
   "execution_count": 11,
   "metadata": {
    "collapsed": false
   },
   "outputs": [
    {
     "name": "stdout",
     "output_type": "stream",
     "text": [
      "Features\n"
     ]
    },
    {
     "data": {
      "text/html": [
       "<div>\n",
       "<table border=\"1\" class=\"dataframe\">\n",
       "  <thead>\n",
       "    <tr style=\"text-align: right;\">\n",
       "      <th></th>\n",
       "      <th>0</th>\n",
       "    </tr>\n",
       "  </thead>\n",
       "  <tbody>\n",
       "    <tr>\n",
       "      <th>0</th>\n",
       "      <td>fixed acidity</td>\n",
       "    </tr>\n",
       "    <tr>\n",
       "      <th>1</th>\n",
       "      <td>volatile acidity</td>\n",
       "    </tr>\n",
       "    <tr>\n",
       "      <th>2</th>\n",
       "      <td>citric acid</td>\n",
       "    </tr>\n",
       "    <tr>\n",
       "      <th>3</th>\n",
       "      <td>residual sugar</td>\n",
       "    </tr>\n",
       "    <tr>\n",
       "      <th>4</th>\n",
       "      <td>chlorides</td>\n",
       "    </tr>\n",
       "    <tr>\n",
       "      <th>5</th>\n",
       "      <td>free sulfur dioxide</td>\n",
       "    </tr>\n",
       "    <tr>\n",
       "      <th>6</th>\n",
       "      <td>total sulfur dioxide</td>\n",
       "    </tr>\n",
       "    <tr>\n",
       "      <th>7</th>\n",
       "      <td>density</td>\n",
       "    </tr>\n",
       "    <tr>\n",
       "      <th>8</th>\n",
       "      <td>pH</td>\n",
       "    </tr>\n",
       "    <tr>\n",
       "      <th>9</th>\n",
       "      <td>sulphates</td>\n",
       "    </tr>\n",
       "    <tr>\n",
       "      <th>10</th>\n",
       "      <td>alcohol</td>\n",
       "    </tr>\n",
       "    <tr>\n",
       "      <th>11</th>\n",
       "      <td>quality</td>\n",
       "    </tr>\n",
       "  </tbody>\n",
       "</table>\n",
       "</div>"
      ],
      "text/plain": [
       "                       0\n",
       "0          fixed acidity\n",
       "1       volatile acidity\n",
       "2            citric acid\n",
       "3         residual sugar\n",
       "4              chlorides\n",
       "5    free sulfur dioxide\n",
       "6   total sulfur dioxide\n",
       "7                density\n",
       "8                     pH\n",
       "9              sulphates\n",
       "10               alcohol\n",
       "11               quality"
      ]
     },
     "execution_count": 11,
     "metadata": {},
     "output_type": "execute_result"
    }
   ],
   "source": [
    "print \"Features\"\n",
    "pd.DataFrame(pd.Series(red.columns))"
   ]
  },
  {
   "cell_type": "code",
   "execution_count": 41,
   "metadata": {
    "collapsed": false
   },
   "outputs": [],
   "source": [
    "\n",
    "cols  = ['fixed acidity'] + ['volatile acidity'] + ['citric acid']+ ['residual sugar']+ ['chlorides'] + \\\n",
    "['free sulfur dioxide']+ ['total sulfur dioxide']+ ['density']+ ['pH']+ ['sulphates'] + ['alcohol'] + ['quality']\n",
    "\n",
    "\n",
    "redcorrs = red[cols].corr().iloc[-1]\n",
    "\n",
    "whitecorrs = white[cols].corr().iloc[-1]"
   ]
  },
  {
   "cell_type": "code",
   "execution_count": 13,
   "metadata": {
    "collapsed": false
   },
   "outputs": [
    {
     "data": {
      "text/html": [
       "<div>\n",
       "<table border=\"1\" class=\"dataframe\">\n",
       "  <thead>\n",
       "    <tr style=\"text-align: right;\">\n",
       "      <th></th>\n",
       "      <th>quality</th>\n",
       "    </tr>\n",
       "  </thead>\n",
       "  <tbody>\n",
       "    <tr>\n",
       "      <th>fixed acidity</th>\n",
       "      <td>0.124052</td>\n",
       "    </tr>\n",
       "    <tr>\n",
       "      <th>volatile acidity</th>\n",
       "      <td>-0.390558</td>\n",
       "    </tr>\n",
       "    <tr>\n",
       "      <th>citric acid</th>\n",
       "      <td>0.226373</td>\n",
       "    </tr>\n",
       "    <tr>\n",
       "      <th>residual sugar</th>\n",
       "      <td>0.013732</td>\n",
       "    </tr>\n",
       "    <tr>\n",
       "      <th>chlorides</th>\n",
       "      <td>-0.128907</td>\n",
       "    </tr>\n",
       "    <tr>\n",
       "      <th>free sulfur dioxide</th>\n",
       "      <td>-0.050656</td>\n",
       "    </tr>\n",
       "    <tr>\n",
       "      <th>total sulfur dioxide</th>\n",
       "      <td>-0.185100</td>\n",
       "    </tr>\n",
       "    <tr>\n",
       "      <th>density</th>\n",
       "      <td>-0.174919</td>\n",
       "    </tr>\n",
       "    <tr>\n",
       "      <th>pH</th>\n",
       "      <td>-0.057731</td>\n",
       "    </tr>\n",
       "    <tr>\n",
       "      <th>sulphates</th>\n",
       "      <td>0.251397</td>\n",
       "    </tr>\n",
       "    <tr>\n",
       "      <th>alcohol</th>\n",
       "      <td>0.476166</td>\n",
       "    </tr>\n",
       "    <tr>\n",
       "      <th>quality</th>\n",
       "      <td>1.000000</td>\n",
       "    </tr>\n",
       "  </tbody>\n",
       "</table>\n",
       "</div>"
      ],
      "text/plain": [
       "                       quality\n",
       "fixed acidity         0.124052\n",
       "volatile acidity     -0.390558\n",
       "citric acid           0.226373\n",
       "residual sugar        0.013732\n",
       "chlorides            -0.128907\n",
       "free sulfur dioxide  -0.050656\n",
       "total sulfur dioxide -0.185100\n",
       "density              -0.174919\n",
       "pH                   -0.057731\n",
       "sulphates             0.251397\n",
       "alcohol               0.476166\n",
       "quality               1.000000"
      ]
     },
     "execution_count": 13,
     "metadata": {},
     "output_type": "execute_result"
    }
   ],
   "source": [
    "pd.DataFrame(redcorrs)"
   ]
  },
  {
   "cell_type": "code",
   "execution_count": 14,
   "metadata": {
    "collapsed": false
   },
   "outputs": [
    {
     "data": {
      "text/html": [
       "<div>\n",
       "<table border=\"1\" class=\"dataframe\">\n",
       "  <thead>\n",
       "    <tr style=\"text-align: right;\">\n",
       "      <th></th>\n",
       "      <th>quality</th>\n",
       "    </tr>\n",
       "  </thead>\n",
       "  <tbody>\n",
       "    <tr>\n",
       "      <th>fixed acidity</th>\n",
       "      <td>-0.113663</td>\n",
       "    </tr>\n",
       "    <tr>\n",
       "      <th>volatile acidity</th>\n",
       "      <td>-0.194723</td>\n",
       "    </tr>\n",
       "    <tr>\n",
       "      <th>citric acid</th>\n",
       "      <td>-0.009209</td>\n",
       "    </tr>\n",
       "    <tr>\n",
       "      <th>residual sugar</th>\n",
       "      <td>-0.097577</td>\n",
       "    </tr>\n",
       "    <tr>\n",
       "      <th>chlorides</th>\n",
       "      <td>-0.209934</td>\n",
       "    </tr>\n",
       "    <tr>\n",
       "      <th>free sulfur dioxide</th>\n",
       "      <td>0.008158</td>\n",
       "    </tr>\n",
       "    <tr>\n",
       "      <th>total sulfur dioxide</th>\n",
       "      <td>-0.174737</td>\n",
       "    </tr>\n",
       "    <tr>\n",
       "      <th>density</th>\n",
       "      <td>-0.307123</td>\n",
       "    </tr>\n",
       "    <tr>\n",
       "      <th>pH</th>\n",
       "      <td>0.099427</td>\n",
       "    </tr>\n",
       "    <tr>\n",
       "      <th>sulphates</th>\n",
       "      <td>0.053678</td>\n",
       "    </tr>\n",
       "    <tr>\n",
       "      <th>alcohol</th>\n",
       "      <td>0.435575</td>\n",
       "    </tr>\n",
       "    <tr>\n",
       "      <th>quality</th>\n",
       "      <td>1.000000</td>\n",
       "    </tr>\n",
       "  </tbody>\n",
       "</table>\n",
       "</div>"
      ],
      "text/plain": [
       "                       quality\n",
       "fixed acidity        -0.113663\n",
       "volatile acidity     -0.194723\n",
       "citric acid          -0.009209\n",
       "residual sugar       -0.097577\n",
       "chlorides            -0.209934\n",
       "free sulfur dioxide   0.008158\n",
       "total sulfur dioxide -0.174737\n",
       "density              -0.307123\n",
       "pH                    0.099427\n",
       "sulphates             0.053678\n",
       "alcohol               0.435575\n",
       "quality               1.000000"
      ]
     },
     "execution_count": 14,
     "metadata": {},
     "output_type": "execute_result"
    }
   ],
   "source": [
    "pd.DataFrame(whitecorrs)"
   ]
  },
  {
   "cell_type": "code",
   "execution_count": 54,
   "metadata": {
    "collapsed": true
   },
   "outputs": [],
   "source": [
    "\n",
    "cols  = ['fixed acidity'] + ['volatile acidity'] + ['chlorides'] + \\\n",
    " ['total sulfur dioxide']+ ['pH']+ ['sulphates'] + ['alcohol'] + ['quality']\n",
    "\n"
   ]
  },
  {
   "cell_type": "code",
   "execution_count": 55,
   "metadata": {
    "collapsed": false
   },
   "outputs": [
    {
     "name": "stdout",
     "output_type": "stream",
     "text": [
      "K: 5\n",
      "0.519017882487\n"
     ]
    },
    {
     "data": {
      "text/plain": [
       "0.02059224999999994"
      ]
     },
     "execution_count": 55,
     "metadata": {},
     "output_type": "execute_result"
    }
   ],
   "source": [
    "# Fixed acidity, volatile acidity, chlorides, total sulphur dioxide, ph, sulphates, alcohol\n",
    "\n",
    "from sklearn import neighbors\n",
    "from sklearn.metrics import r2_score\n",
    "\n",
    "\n",
    "\n",
    "neigh =  neighbors.KNeighborsRegressor()\n",
    "\n",
    "length = len(red[cols])\n",
    "\n",
    "train_cols = red[cols] [0 : length/2]\n",
    "test_cols = red[cols] [length/2 : ]\n",
    "\n",
    "\n",
    "train_q = red['quality'] [0 : length/2]\n",
    "test_q = red['quality'] [length/2 : ]\n",
    "\n",
    "neigh.fit(train_cols, train_q)\n",
    "\n",
    "\n",
    "pred_test_q = neigh.predict(test_cols)\n",
    "\n",
    "print \"K: \" + str(neigh.n_neighbors)\n",
    "\n",
    "print r2_score(test_q, pred_test_q)\n",
    "\n",
    "import math\n",
    "\n",
    "math.pow((test_q - pred_test_q).mean(), 2)\n"
   ]
  },
  {
   "cell_type": "code",
   "execution_count": 56,
   "metadata": {
    "collapsed": false
   },
   "outputs": [
    {
     "name": "stdout",
     "output_type": "stream",
     "text": [
      "Best score: 0.394424461789{'n_neighbors': 3}\n",
      "R-sqaured: 0.56515911313\n",
      "\n",
      "MSE \n"
     ]
    },
    {
     "data": {
      "text/plain": [
       "0.014201"
      ]
     },
     "execution_count": 56,
     "metadata": {},
     "output_type": "execute_result"
    }
   ],
   "source": [
    "parameters = {'n_neighbors':range(1,10)}\n",
    "\n",
    "from sklearn import grid_search\n",
    "\n",
    "clf = grid_search.GridSearchCV(neighbors.KNeighborsRegressor(), parameters, n_jobs=4)\n",
    "\n",
    "clf.fit(train_cols, train_q)\n",
    "\n",
    "model = clf.best_estimator_\n",
    "\n",
    "print \"Best score: \" + str(clf.best_score_) + str(clf.best_params_)\n",
    "\n",
    "pred_test_q = model.predict(test_cols)\n",
    "\n",
    "print \"R-sqaured: \" + str(r2_score(test_q, pred_test_q))\n",
    "\n",
    "print \"\\nMSE \"\n",
    "round(math.pow((test_q - pred_test_q).mean(), 2), 6)\n"
   ]
  },
  {
   "cell_type": "code",
   "execution_count": 68,
   "metadata": {
    "collapsed": false
   },
   "outputs": [
    {
     "name": "stdout",
     "output_type": "stream",
     "text": [
      "3.39990832849e-31\n",
      "1.0\n"
     ]
    }
   ],
   "source": [
    "import sklearn\n",
    "\n",
    "xtr, xtes, ytr, ytes = sklearn.cross_validation.train_test_split( red[cols], red['quality'], test_size=0.6, \n",
    "                                                                 train_size = 0.4)\n",
    "lm = sklearn.linear_model.LinearRegression(fit_intercept=True)\n",
    "\n",
    "lm.fit(xtr, ytr)\n",
    "\n",
    "prediction = lm.predict(xtes)\n",
    "\n",
    "print sklearn.metrics.mean_squared_error(ytes, prediction)\n",
    "print sklearn.metrics.r2_score(ytes, prediction)\n",
    "\n"
   ]
  },
  {
   "cell_type": "code",
   "execution_count": null,
   "metadata": {
    "collapsed": true
   },
   "outputs": [],
   "source": []
  },
  {
   "cell_type": "code",
   "execution_count": null,
   "metadata": {
    "collapsed": true
   },
   "outputs": [],
   "source": []
  }
 ],
 "metadata": {
  "kernelspec": {
   "display_name": "Python [Root]",
   "language": "python",
   "name": "Python [Root]"
  },
  "language_info": {
   "codemirror_mode": {
    "name": "ipython",
    "version": 2
   },
   "file_extension": ".py",
   "mimetype": "text/x-python",
   "name": "python",
   "nbconvert_exporter": "python",
   "pygments_lexer": "ipython2",
   "version": "2.7.12"
  }
 },
 "nbformat": 4,
 "nbformat_minor": 0
}
